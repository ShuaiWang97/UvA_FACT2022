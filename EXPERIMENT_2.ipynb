{
 "cells": [
  {
   "cell_type": "code",
   "execution_count": 1,
   "metadata": {},
   "outputs": [
    {
     "name": "stderr",
     "output_type": "stream",
     "text": [
      "E:\\Users\\anaconda3\\envs\\py36\\lib\\site-packages\\setuptools\\distutils_patch.py:26: UserWarning: Distutils was imported before Setuptools. This usage is discouraged and may exhibit undesirable behaviors or errors. Please use Setuptools' objects directly or at least import Setuptools first.\n",
      "  \"Distutils was imported before Setuptools. This usage is discouraged \"\n"
     ]
    }
   ],
   "source": [
    "#from xgboost import XGBClassifier\n",
    "import numpy as np\n",
    "import pandas as pd\n",
    "import pytorch_lightning as pl\n",
    "from sklearn.neural_network import MLPClassifier\n",
    "from sklearn.preprocessing import StandardScaler, MinMaxScaler \n",
    "from sklearn.metrics import precision_score, recall_score, roc_auc_score, accuracy_score\n",
    "from sklearn.model_selection import train_test_split\n",
    "from tqdm import tqdm\n",
    "import random\n",
    "import torch"
   ]
  },
  {
   "cell_type": "markdown",
   "metadata": {},
   "source": [
    "## Preprocess dataset"
   ]
  },
  {
   "cell_type": "code",
   "execution_count": 13,
   "metadata": {},
   "outputs": [
    {
     "data": {
      "text/plain": [
       "array([[<matplotlib.axes._subplots.AxesSubplot object at 0x000002A36FCC6FD0>,\n",
       "        <matplotlib.axes._subplots.AxesSubplot object at 0x000002A36FCCEDA0>,\n",
       "        <matplotlib.axes._subplots.AxesSubplot object at 0x000002A36FCE8FD0>,\n",
       "        <matplotlib.axes._subplots.AxesSubplot object at 0x000002A36FD252B0>],\n",
       "       [<matplotlib.axes._subplots.AxesSubplot object at 0x000002A36FD58518>,\n",
       "        <matplotlib.axes._subplots.AxesSubplot object at 0x000002A36FD8A780>,\n",
       "        <matplotlib.axes._subplots.AxesSubplot object at 0x000002A36FDBE9E8>,\n",
       "        <matplotlib.axes._subplots.AxesSubplot object at 0x000002A36FDF1C18>],\n",
       "       [<matplotlib.axes._subplots.AxesSubplot object at 0x000002A36FDF1C88>,\n",
       "        <matplotlib.axes._subplots.AxesSubplot object at 0x000002A36FE68160>,\n",
       "        <matplotlib.axes._subplots.AxesSubplot object at 0x000002A36FE9C3C8>,\n",
       "        <matplotlib.axes._subplots.AxesSubplot object at 0x000002A36FECE630>],\n",
       "       [<matplotlib.axes._subplots.AxesSubplot object at 0x000002A36FF07278>,\n",
       "        <matplotlib.axes._subplots.AxesSubplot object at 0x000002A36FF385F8>,\n",
       "        <matplotlib.axes._subplots.AxesSubplot object at 0x000002A36FF6A978>,\n",
       "        <matplotlib.axes._subplots.AxesSubplot object at 0x000002A36FF9BCF8>]],\n",
       "      dtype=object)"
      ]
     },
     "execution_count": 13,
     "metadata": {},
     "output_type": "execute_result"
    },
    {
     "data": {
      "image/png": "[encoded data removed]",
      "text/plain": [
       "<Figure size 432x288 with 16 Axes>"
      ]
     },
     "metadata": {
      "needs_background": "light"
     },
     "output_type": "display_data"
    }
   ],
   "source": [
    "import numpy as np # linear algebra\n",
    "import pandas as pd \n",
    "names = ['male', 'age', 'debt', 'married', 'bankcustomer', 'educationlevel', 'ethnicity', 'yearsemployed',\n",
    "               'priordefault', 'employed', 'creditscore', 'driverslicense', 'citizen', 'zip', 'income', 'approved']\n",
    "\n",
    "data = pd.read_csv('./data/credit.csv', header=None,  names=names)\n",
    "data.reset_index(drop=True, inplace=True) \n",
    "\n",
    "\n",
    "data = data.dropna(how = 'all')\n",
    "data = data[data.age != '?']\n",
    "\n",
    "\n",
    "\n",
    "from sklearn import preprocessing\n",
    "for feat in ['male', 'married','bankcustomer', 'educationlevel', 'ethnicity','priordefault', 'employed', 'driverslicense', 'citizen', 'zip', 'approved']:\n",
    "    data[feat] = preprocessing.LabelEncoder().fit_transform(data[feat])\n",
    "    \n",
    "data.head()\n",
    "data.hist()"
   ]
  },
  {
   "cell_type": "markdown",
   "metadata": {},
   "source": [
    "## The dag used from paper"
   ]
  },
  {
   "cell_type": "code",
   "execution_count": 3,
   "metadata": {},
   "outputs": [
    {
     "name": "stdout",
     "output_type": "stream",
     "text": [
      "20\n",
      "[[1, 7], [6, 15], [6, 3], [8, 10], [8, 15], [8, 9], [13, 3], [12, 3], [11, 9], [5, 9], [5, 3], [7, 10], [10, 15], [10, 2], [9, 4], [9, 2], [2, 14], [3, 15], [14, 15], [14, 3]]\n"
     ]
    }
   ],
   "source": [
    "# Define DAG for Credit dataset\n",
    "dag= [    \n",
    "    # Edges from age\n",
    "    ['age', 'yearsemployed'],\n",
    "    \n",
    "    # Edges from ethnicity\n",
    "    ['ethnicity', 'approved'],\n",
    "    ['ethnicity', 'married'],\n",
    "    \n",
    "    # Edges from default\n",
    "    [\"priordefault\", \"creditscore\"],\n",
    "    [\"priordefault\", \"approved\"],\n",
    "    [\"priordefault\", \"employed\"],\n",
    "    \n",
    "    # Edges from zip\n",
    "    [\"zip\", \"married\"],\n",
    "    # Edges from citizen\n",
    "    [\"citizen\",\"married\"],\n",
    "    # Edges from driverslicense\n",
    "    [\"driverslicense\",\"employed\"],\n",
    "    # Edges from education_level\n",
    "    [\"educationlevel\",\"employed\"],\n",
    "    [\"educationlevel\",\"married\"],\n",
    "    \n",
    "    # Edges from yearsemployed\n",
    "    [\"yearsemployed\", \"creditscore\"],\n",
    "    # Edges from creditscore\n",
    "    [\"creditscore\", \"approved\"],\n",
    "    [\"creditscore\", \"debt\"],\n",
    "    \n",
    "    # Edges from employed\n",
    "    [\"employed\", \"bankcustomer\"],\n",
    "    [\"employed\", \"debt\"],\n",
    "    \n",
    "    # Edges from debt\n",
    "    [\"debt\", \"income\"],\n",
    "    # Edges from married\n",
    "    [\"married\", \"approved\"],\n",
    "    \n",
    "    # Edges from income\n",
    "    [\"income\", \"approved\"],\n",
    "    [\"income\", \"married\"],\n",
    "]\n",
    "\n",
    "print(len(dag))\n",
    "def dag_to_idx(df, dag):\n",
    "    \"\"\"Convert columns in a DAG to the corresponding indices.\"\"\"\n",
    "\n",
    "    dag_idx = []\n",
    "    for edge in dag:\n",
    "        dag_idx.append([df.columns.get_loc(edge[0]), df.columns.get_loc(edge[1])])\n",
    "\n",
    "    return dag_idx\n",
    "\n",
    "# Convert the DAG to one that can be provided to the DECAF model\n",
    "dag_seed = dag_to_idx(data, dag)\n",
    "print(dag_seed)"
   ]
  },
  {
   "cell_type": "markdown",
   "metadata": {},
   "source": [
    "## Use dag from notebook"
   ]
  },
  {
   "cell_type": "code",
   "execution_count": 4,
   "metadata": {},
   "outputs": [
    {
     "name": "stdout",
     "output_type": "stream",
     "text": [
      "[[1, 7], [8, 1], [10, 2], [6, 1], [7, 10], [13, 2], [3, 15], [7, 2], [9, 10], [4, 15], [9, 15], [8, 7], [4, 9], [4, 3], [8, 15], [7, 11], [12, 9], [10, 13], [9, 8]]\n"
     ]
    }
   ],
   "source": [
    "#####################################################\n",
    "#### For this experiment, we uniquely drop the default variable (prior default)\n",
    "###################################################\n",
    "#data = data.drop(['educationlevel'], axis=1)\n",
    "    \n",
    "\n",
    "from pycausal.pycausal import pycausal as pc\n",
    "pc = pc()\n",
    "pc.start_vm()\n",
    "\n",
    "from pycausal import prior as p\n",
    "prior = p.knowledge(addtemporal = [['male', 'age','ethnicity'],[ 'debt', 'married', 'bankcustomer', 'educationlevel', 'yearsemployed',\n",
    "                'employed', 'creditscore', 'driverslicense', 'citizen', 'zip', 'income'],['approved']])\n",
    "\n",
    "\n",
    "from pycausal import search as s\n",
    "tetrad = s.tetradrunner()\n",
    "tetrad.run(algoId = 'fges', scoreId = 'cg-bic-score', dfs = data, priorKnowledge = prior,\n",
    "           maxDegree = -1, faithfulnessAssumed = True, verbose = False)\n",
    "tetrad.getEdges()\n",
    "\n",
    "dag_seed = []\n",
    "for edge in tetrad.getEdges():\n",
    "    dag_seed.append(list([names.index(edge.split(' ')[0]), names.index(edge.split(' ')[-1])]))\n",
    "print(dag_seed )"
   ]
  },
  {
   "cell_type": "code",
   "execution_count": 5,
   "metadata": {},
   "outputs": [
    {
     "name": "stdout",
     "output_type": "stream",
     "text": [
      "1    373\n",
      "0    305\n",
      "Name: approved, dtype: int64\n",
      "<bound method NDFrame.head of      male       age      debt   married  bankcustomer  educationlevel  \\\n",
      "0     1.0  0.256842  0.000000  0.666667      0.333333        0.928571   \n",
      "1     0.5  0.675489  0.159286  0.666667      0.333333        0.785714   \n",
      "2     0.5  0.161654  0.017857  0.666667      0.333333        0.785714   \n",
      "3     1.0  0.211729  0.055000  0.666667      0.333333        0.928571   \n",
      "4     1.0  0.096541  0.200893  0.666667      0.333333        0.928571   \n",
      "..    ...       ...       ...       ...           ...             ...   \n",
      "673   1.0  0.110226  0.360179  1.000000      1.000000        0.357143   \n",
      "674   0.5  0.134135  0.026786  0.666667      0.333333        0.142857   \n",
      "675   0.5  0.172932  0.482143  1.000000      1.000000        0.428571   \n",
      "676   1.0  0.062707  0.007321  0.666667      0.333333        0.071429   \n",
      "677   1.0  0.319549  0.120536  0.666667      0.333333        0.142857   \n",
      "\n",
      "     ethnicity  yearsemployed  priordefault  employed  creditscore  \\\n",
      "0          1.0       0.043860           1.0       1.0     0.014925   \n",
      "1          0.0       0.106667           1.0       1.0     0.089552   \n",
      "2          0.0       0.052632           1.0       0.0     0.000000   \n",
      "3          1.0       0.131579           1.0       1.0     0.074627   \n",
      "4          1.0       0.060000           1.0       1.0     0.000000   \n",
      "..         ...            ...           ...       ...          ...   \n",
      "673        0.0       0.043860           0.0       0.0     0.000000   \n",
      "674        1.0       0.070175           0.0       1.0     0.029851   \n",
      "675        0.0       0.070175           0.0       1.0     0.014925   \n",
      "676        1.0       0.001404           0.0       1.0     0.000000   \n",
      "677        0.0       0.290877           0.0       0.0     0.000000   \n",
      "\n",
      "     driverslicense  citizen       zip   income  approved  \n",
      "0               0.0      0.0  0.404762  0.00000       0.0  \n",
      "1               0.0      0.0  0.065476  0.00560       0.0  \n",
      "2               0.0      0.0  0.571429  0.00824       0.0  \n",
      "3               1.0      0.0  0.184524  0.00003       0.0  \n",
      "4               0.0      1.0  0.220238  0.00000       0.0  \n",
      "..              ...      ...       ...      ...       ...  \n",
      "673             0.0      0.0  0.535714  0.00000       1.0  \n",
      "674             1.0      0.0  0.398810  0.00394       1.0  \n",
      "675             1.0      0.0  0.398810  0.00001       1.0  \n",
      "676             0.0      0.0  0.571429  0.00750       1.0  \n",
      "677             1.0      0.0  0.000000  0.00000       1.0  \n",
      "\n",
      "[678 rows x 16 columns]>\n"
     ]
    }
   ],
   "source": [
    "import pickle \n",
    "p_idx = 6\n",
    "p_attr = 'ethnicity'\n",
    "#for p in [0, 0.2, 0.4, 0.6, 0.8, 1]:\n",
    "for p in [0]:\n",
    "    names = ['male', 'age', 'debt', 'married', 'bankcustomer', 'educationlevel', 'ethnicity', 'yearsemployed',\n",
    "               'priordefault', 'employed', 'creditscore', 'driverslicense', 'citizen', 'zip', 'income', 'approved']\n",
    "    data = pd.read_csv('./data/credit.csv', header=None,  names=names)\n",
    "    data.reset_index(drop=True, inplace=True) \n",
    "    data = data.dropna(how = 'all')\n",
    "\n",
    "    data = data[data.age != '?']\n",
    "    data.reset_index(drop=True, inplace = True)\n",
    "\n",
    "\n",
    "    from sklearn import preprocessing\n",
    "    for feat in ['male', 'married','bankcustomer', 'educationlevel', 'ethnicity','priordefault', 'employed', 'driverslicense', 'citizen', 'zip', 'approved']:\n",
    "        data[feat] = preprocessing.LabelEncoder().fit_transform(data[feat])\n",
    "\n",
    "    data['age'] = pd.to_numeric(data['age'],errors='coerce')\n",
    "\n",
    "\n",
    "    data.loc[data['ethnicity'] <= 4, 'ethnicity'] = 0\n",
    "    data.loc[data['ethnicity'] > 4, 'ethnicity']= 1\n",
    "    \n",
    "    \n",
    "    data.loc[data['ethnicity'] ==1 , 'employed'] =  1\n",
    "\n",
    "    biased_data = data.copy()\n",
    "    \n",
    "    \n",
    "    bias = p\n",
    "    #biased_data.loc[biased_data['ethnicity'] == 1, 'approved'] = np.logical_and(biased_data.loc[biased_data['ethnicity'] == 1, 'approved'].values, \n",
    "    #               np.random.binomial(1, bias, len(biased_data.loc[biased_data['ethnicity'] == 1, 'approved']))).astype(int)\n",
    "    print(biased_data['approved'].value_counts())\n",
    "    biased_data.head()\n",
    "\n",
    "    thresh = 0.8\n",
    "\n",
    "    from sklearn.preprocessing import MinMaxScaler\n",
    "\n",
    "    scaler = MinMaxScaler()\n",
    "    scaler.fit(data)\n",
    "    data[data.columns] = scaler.fit_transform(data)\n",
    "    biased_data[biased_data.columns] = scaler.transform(biased_data)\n",
    "    print(biased_data.head)\n",
    "    import pickle \n",
    "    p_idx = 6\n",
    "    p_attr = 'ethnicity'\n",
    "\n",
    "    #view_stats_new(['fairgan'], biased_data, protected = p_attr, remove_protected = False,\n",
    "    #           orig_data = data ,protected_idx = p_idx, bias_dict ={})\n",
    "\n",
    "    #view_stats_new(['gan', 'wgan', 'adsgan'], biased_data, protected = p_attr, remove_protected = False,\n",
    "    #           orig_data = data ,protected_idx = p_idx, bias_dict ={})\n",
    "    \n",
    "#     view_stats_new(['DECAF'], biased_data, protected = p_attr, remove_protected = False,\n",
    "#            orig_data = data ,protected_idx = p_idx, bias_dict ={})\n",
    "\n",
    "#     view_stats_new(['DECAF-FTU1'], biased_data, protected = p_attr, remove_protected = False,\n",
    "#                orig_data = data ,protected_idx = p_idx, bias_dict ={15:[6]})\n",
    "    \n",
    "#     view_stats_new(['DECAF-FTU2'], biased_data, protected = p_attr, remove_protected = False,\n",
    "#                orig_data = data ,protected_idx = p_idx, bias_dict ={15:[6]}, surrogate = True,)\n",
    "\n",
    "#     view_stats_new(['DECAF-DP'], biased_data, protected = p_attr, remove_protected = False,\n",
    "#                orig_data = data ,protected_idx = p_idx, bias_dict ={15:[6,9]})"
   ]
  },
  {
   "cell_type": "code",
   "execution_count": 6,
   "metadata": {},
   "outputs": [
    {
     "name": "stdout",
     "output_type": "stream",
     "text": [
      "(542, 16)\n"
     ]
    }
   ],
   "source": [
    "dataset_train, dataset_test = train_test_split(biased_data, test_size=0.2,\n",
    "                                               stratify=biased_data['approved'])\n",
    "print(dataset_train.shape)"
   ]
  },
  {
   "cell_type": "code",
   "execution_count": 21,
   "metadata": {},
   "outputs": [],
   "source": [
    "from models.DECAF import DECAF\n",
    "from data import DataModule\n",
    "import os\n",
    "models_dir = './cache/'\n",
    "def train_decaf(train_dataset, dag_seed, biased_edges={}, h_dim=200, lr=0.5e-3,\n",
    "                batch_size=64, lambda_privacy=0, lambda_gp=10, d_updates=10,\n",
    "                alpha=2, rho=2, weight_decay=1e-2, grad_dag_loss=False, l1_g=0,\n",
    "                l1_W=1e-4, p_gen=-1, use_mask=True, epochs=50):\n",
    "    model_filename = os.path.join(models_dir, 'decaf.pkl')\n",
    "\n",
    "    dm = DataModule(train_dataset.values)\n",
    "\n",
    "    model = DECAF(\n",
    "        dm.dims[0],\n",
    "        dag_seed=dag_seed,\n",
    "        h_dim=h_dim,\n",
    "        lr=lr,\n",
    "        batch_size=batch_size,\n",
    "        lambda_privacy=lambda_privacy,\n",
    "        lambda_gp=lambda_gp,\n",
    "        d_updates=d_updates,\n",
    "        alpha=alpha,\n",
    "        rho=rho,\n",
    "        weight_decay=weight_decay,\n",
    "        grad_dag_loss=grad_dag_loss,\n",
    "        l1_g=l1_g,\n",
    "        l1_W=l1_W,\n",
    "        p_gen=p_gen,\n",
    "        use_mask=use_mask,\n",
    "    )\n",
    "    print(model_filename)\n",
    "    if os.path.exists(model_filename):\n",
    "        model = torch.load(model_filename)\n",
    "    else:\n",
    "        trainer = pl.Trainer(max_epochs=epochs, logger=False)\n",
    "        trainer.fit(model, dm)\n",
    "        #torch.save(model, model_filename)\n",
    "\n",
    "    # Generate synthetic data\n",
    "    synth_dataset = (\n",
    "        model.gen_synthetic(\n",
    "            dm.dataset.x,\n",
    "            gen_order=model.get_gen_order(),\n",
    "            biased_edges=biased_edges,\n",
    "        )\n",
    "        .detach()\n",
    "        .numpy()\n",
    "    )\n",
    "    #synth_dataset[:, -1] = synth_dataset[:, -1].astype(np.int8)\n",
    "\n",
    "    synth_dataset = pd.DataFrame(synth_dataset,\n",
    "                                 index=train_dataset.index,\n",
    "                                 columns=train_dataset.columns)\n",
    "    #synth_dataset['approved'] = np.round(synth_dataset['approved'])\n",
    "    #synth_dataset['income'] = np.round(synth_dataset['income'])\n",
    "\n",
    "    return synth_dataset"
   ]
  },
  {
   "cell_type": "code",
   "execution_count": 22,
   "metadata": {},
   "outputs": [
    {
     "name": "stderr",
     "output_type": "stream",
     "text": [
      "E:\\Users\\anaconda3\\envs\\py36\\lib\\site-packages\\pytorch_lightning\\core\\datamodule.py:175: LightningDeprecationWarning: DataModule property `dims` was deprecated in v1.5 and will be removed in v1.7.\n",
      "  rank_zero_deprecation(\"DataModule property `dims` was deprecated in v1.5 and will be removed in v1.7.\")\n",
      "E:\\Users\\anaconda3\\envs\\py36\\lib\\site-packages\\pytorch_lightning\\core\\datamodule.py:170: LightningDeprecationWarning: DataModule property `dims` was deprecated in v1.5 and will be removed in v1.7.\n",
      "  rank_zero_deprecation(\"DataModule property `dims` was deprecated in v1.5 and will be removed in v1.7.\")\n",
      "GPU available: False, used: False\n",
      "TPU available: False, using: 0 TPU cores\n",
      "IPU available: False, using: 0 IPUs\n",
      "E:\\Users\\anaconda3\\envs\\py36\\lib\\site-packages\\pytorch_lightning\\trainer\\configuration_validator.py:120: UserWarning: You passed in a `val_dataloader` but have no `validation_step`. Skipping val loop.\n",
      "  rank_zero_warn(\"You passed in a `val_dataloader` but have no `validation_step`. Skipping val loop.\")\n",
      "\n",
      "  | Name          | Type             | Params\n",
      "---------------------------------------------------\n",
      "0 | generator     | Generator_causal | 141 K \n",
      "1 | discriminator | Discriminator    | 43.8 K\n",
      "---------------------------------------------------\n",
      "185 K     Trainable params\n",
      "256       Non-trainable params\n",
      "185 K     Total params\n",
      "0.741     Total estimated model params size (MB)\n"
     ]
    },
    {
     "name": "stdout",
     "output_type": "stream",
     "text": [
      "Initialised adjacency matrix as parsed:\n",
      " Parameter containing:\n",
      "tensor([[0., 0., 0., 0., 0., 0., 0., 0., 0., 0., 0., 0., 0., 0., 0., 0.],\n",
      "        [0., 0., 0., 0., 0., 0., 0., 1., 0., 0., 0., 0., 0., 0., 0., 0.],\n",
      "        [0., 0., 0., 0., 0., 0., 0., 0., 0., 0., 0., 0., 0., 0., 0., 0.],\n",
      "        [0., 0., 0., 0., 0., 0., 0., 0., 0., 0., 0., 0., 0., 0., 0., 1.],\n",
      "        [0., 0., 0., 1., 0., 0., 0., 0., 0., 1., 0., 0., 0., 0., 0., 1.],\n",
      "        [0., 0., 0., 0., 0., 0., 0., 0., 0., 0., 0., 0., 0., 0., 0., 0.],\n",
      "        [0., 1., 0., 0., 0., 0., 0., 0., 0., 0., 0., 0., 0., 0., 0., 0.],\n",
      "        [0., 0., 1., 0., 0., 0., 0., 0., 0., 0., 1., 1., 0., 0., 0., 0.],\n",
      "        [0., 1., 0., 0., 0., 0., 0., 1., 0., 0., 0., 0., 0., 0., 0., 1.],\n",
      "        [0., 0., 0., 0., 0., 0., 0., 0., 1., 0., 1., 0., 0., 0., 0., 1.],\n",
      "        [0., 0., 1., 0., 0., 0., 0., 0., 0., 0., 0., 0., 0., 1., 0., 0.],\n",
      "        [0., 0., 0., 0., 0., 0., 0., 0., 0., 0., 0., 0., 0., 0., 0., 0.],\n",
      "        [0., 0., 0., 0., 0., 0., 0., 0., 0., 1., 0., 0., 0., 0., 0., 0.],\n",
      "        [0., 0., 1., 0., 0., 0., 0., 0., 0., 0., 0., 0., 0., 0., 0., 0.],\n",
      "        [0., 0., 0., 0., 0., 0., 0., 0., 0., 0., 0., 0., 0., 0., 0., 0.],\n",
      "        [0., 0., 0., 0., 0., 0., 0., 0., 0., 0., 0., 0., 0., 0., 0., 0.]])\n",
      "./cache/decaf.pkl\n"
     ]
    },
    {
     "name": "stderr",
     "output_type": "stream",
     "text": [
      "E:\\Users\\anaconda3\\envs\\py36\\lib\\site-packages\\pytorch_lightning\\callbacks\\model_checkpoint.py:631: UserWarning: Checkpoint directory D:\\Github\\UvA_FACT2022_old\\checkpoints exists and is not empty.\n",
      "  rank_zero_warn(f\"Checkpoint directory {dirpath} exists and is not empty.\")\n",
      "E:\\Users\\anaconda3\\envs\\py36\\lib\\site-packages\\pytorch_lightning\\trainer\\data_loading.py:133: UserWarning: The dataloader, train_dataloader, does not have many workers which may be a bottleneck. Consider increasing the value of the `num_workers` argument` (try 12 which is the number of cpus on this machine) in the `DataLoader` init to improve performance.\n",
      "  f\"The dataloader, {name}, does not have many workers which may be a bottleneck.\"\n"
     ]
    },
    {
     "data": {
      "application/vnd.jupyter.widget-view+json": {
       "model_id": "108e3cf090a142778f1e91218df41237",
       "version_major": 2,
       "version_minor": 0
      },
      "text/plain": [
       "HBox(children=(FloatProgress(value=1.0, bar_style='info', description='Training', layout=Layout(flex='2'), max…"
      ]
     },
     "metadata": {},
     "output_type": "display_data"
    },
    {
     "name": "stdout",
     "output_type": "stream",
     "text": [
      "\n"
     ]
    }
   ],
   "source": [
    "synth_data = train_decaf(biased_data, dag_seed)"
   ]
  },
  {
   "cell_type": "code",
   "execution_count": 23,
   "metadata": {},
   "outputs": [],
   "source": [
    "def eval_model(dataset_train, dataset_test, label=\"approved\"):\n",
    "    \"\"\"Helper function that prints evaluation metrics.\"\"\"\n",
    "\n",
    "    X_train, y_train = dataset_train.drop(columns=[label]), dataset_train[label]\n",
    "    X_test, y_test = dataset_test.drop(columns=[label]), dataset_test[label]\n",
    "\n",
    "    clf = MLPClassifier()\n",
    "    clf.fit(X_train, y_train)\n",
    "    y_pred = clf.predict(X_test)\n",
    "\n",
    "    precision = precision_score(y_test, y_pred)\n",
    "    recall = recall_score(y_test, y_pred)\n",
    "    auroc = roc_auc_score(y_test, y_pred)\n",
    "    dp = DP(clf, X_test)\n",
    "    ftu = FTU(clf, X_test)\n",
    "\n",
    "    return {'precision': precision, 'recall': recall, 'auroc': auroc,\n",
    "            'dp': dp, 'ftu': ftu}\n",
    "\n",
    "def DP(mlp, X_test):\n",
    "    \"\"\"Calculate fairness metric DP\"\"\"\n",
    "    \n",
    "    X_test_df = pd.DataFrame(X_test, columns = column_names[:-1]) \n",
    "    X_test_0 = X_test_df[X_test_df[\"ethnicity\"] <0.5]\n",
    "    X_test_1 = X_test_df[X_test_df[\"ethnicity\"] >0.5]\n",
    "    dp = abs(np.mean(mlp.predict(X_test_0)) - np.mean(mlp.predict(X_test_1)))\n",
    "    \n",
    "    return dp\n",
    "    \n",
    "\n",
    "def FTU(mlp, X_test):\n",
    "    \"\"\"Calculate fairness metric DP\"\"\"\n",
    "    \n",
    "    X_test_df = pd.DataFrame(X_test, columns = column_names[:-1])\n",
    "    X_test_0 = X_test_df.assign(ethnicity = 0)\n",
    "    X_test_1 = X_test_df.assign(ethnicity = 1)\n",
    "\n",
    "    ftu = abs(np.mean(mlp.predict(X_test_0)) - np.mean(mlp.predict(X_test_1)))\n",
    "\n",
    "    return ftu"
   ]
  },
  {
   "cell_type": "code",
   "execution_count": 24,
   "metadata": {},
   "outputs": [
    {
     "name": "stdout",
     "output_type": "stream",
     "text": [
      "count    678.000000\n",
      "mean       0.557829\n",
      "std        0.002401\n",
      "min        0.553464\n",
      "25%        0.555874\n",
      "50%        0.557830\n",
      "75%        0.559945\n",
      "max        0.561812\n",
      "Name: approved, dtype: float64\n"
     ]
    },
    {
     "data": {
      "text/plain": [
       "array([[<matplotlib.axes._subplots.AxesSubplot object at 0x000002A370DAF0B8>,\n",
       "        <matplotlib.axes._subplots.AxesSubplot object at 0x000002A37079C6A0>,\n",
       "        <matplotlib.axes._subplots.AxesSubplot object at 0x000002A3707BDC18>,\n",
       "        <matplotlib.axes._subplots.AxesSubplot object at 0x000002A370843B38>],\n",
       "       [<matplotlib.axes._subplots.AxesSubplot object at 0x000002A37089EBA8>,\n",
       "        <matplotlib.axes._subplots.AxesSubplot object at 0x000002A370F17C18>,\n",
       "        <matplotlib.axes._subplots.AxesSubplot object at 0x000002A370F4BE80>,\n",
       "        <matplotlib.axes._subplots.AxesSubplot object at 0x000002A370F8D0F0>],\n",
       "       [<matplotlib.axes._subplots.AxesSubplot object at 0x000002A370F8D160>,\n",
       "        <matplotlib.axes._subplots.AxesSubplot object at 0x000002A370FF45F8>,\n",
       "        <matplotlib.axes._subplots.AxesSubplot object at 0x000002A371027860>,\n",
       "        <matplotlib.axes._subplots.AxesSubplot object at 0x000002A37105BAC8>],\n",
       "       [<matplotlib.axes._subplots.AxesSubplot object at 0x000002A37108ED30>,\n",
       "        <matplotlib.axes._subplots.AxesSubplot object at 0x000002A3710C3F98>,\n",
       "        <matplotlib.axes._subplots.AxesSubplot object at 0x000002A371101240>,\n",
       "        <matplotlib.axes._subplots.AxesSubplot object at 0x000002A3711384A8>]],\n",
       "      dtype=object)"
      ]
     },
     "execution_count": 24,
     "metadata": {},
     "output_type": "execute_result"
    },
    {
     "data": {
      "image/png": "[encoded data removed]",
      "text/plain": [
       "<Figure size 432x288 with 16 Axes>"
      ]
     },
     "metadata": {
      "needs_background": "light"
     },
     "output_type": "display_data"
    }
   ],
   "source": [
    "\n",
    "print(synth_data[\"approved\"].describe())\n",
    "synth_data.hist()\n",
    "#dataset_test"
   ]
  },
  {
   "cell_type": "code",
   "execution_count": 25,
   "metadata": {},
   "outputs": [
    {
     "ename": "ValueError",
     "evalue": "Unknown label type: (array([0.5587489 , 0.55447656, 0.56024885, 0.5586329 , 0.5570742 ,\n       0.55658066, 0.5549261 , 0.5603756 , 0.5583203 , 0.5535344 ,\n       0.5603882 , 0.5590148 , 0.56173044, 0.56098497, 0.55389345,\n       0.55767965, 0.5552601 , 0.5574704 , 0.5598663 , 0.5605698 ,\n       0.55393195, 0.5591046 , 0.5578133 , 0.5605925 , 0.5575565 ,\n       0.556381  , 0.5615247 , 0.5602342 , 0.5614434 , 0.55738   ,\n       0.56022686, 0.559358  , 0.5561835 , 0.55451196, 0.55612266,\n       0.5598869 , 0.55633414, 0.5535579 , 0.5545059 , 0.5605935 ,\n       0.5569035 , 0.56036735, 0.5559883 , 0.5582772 , 0.55879605,\n       0.55744684, 0.55359554, 0.5595398 , 0.55976313, 0.56088847,\n       0.56143117, 0.55668986, 0.5565149 , 0.557443  , 0.55726796,\n       0.5586145 , 0.557391  , 0.5618115 , 0.5559235 , 0.55358505,\n       0.5543811 , 0.557767  , 0.56071025, 0.55512035, 0.56150615,\n       0.55619466, 0.55497605, 0.560914  , 0.5551434 , 0.55601275,\n       0.5556245 , 0.5613578 , 0.5600123 , 0.5599629 , 0.554797  ,\n       0.5602208 , 0.55861115, 0.55809957, 0.5553944 , 0.5600437 ,\n       0.5586317 , 0.5587404 , 0.56175214, 0.5539462 , 0.5602853 ,\n       0.5578663 , 0.5610664 , 0.5575189 , 0.55946195, 0.56012905,\n       0.55872643, 0.557847  , 0.55827194, 0.55774224, 0.5595005 ,\n       0.55852604, 0.55408114, 0.55939853, 0.55646485, 0.5575281 ,\n       0.56174666, 0.559673  , 0.55632514, 0.55839056, 0.5541888 ,\n       0.558201  , 0.5588558 , 0.5606283 , 0.5595987 , 0.5610588 ,\n       0.56165135, 0.558401  , 0.55356604, 0.5583445 , 0.56162006,\n       0.55991495, 0.5535952 , 0.5603479 , 0.55870926, 0.557675  ,\n       0.5542346 , 0.56035954, 0.55973405, 0.5543428 , 0.5548092 ,\n       0.55774415, 0.5561686 , 0.5602972 , 0.55866945, 0.56144965,\n       0.5579481 , 0.56057215, 0.560237  , 0.55882734, 0.5546523 ,\n       0.55876595, 0.5593341 , 0.5561964 , 0.5569698 , 0.5565289 ,\n       0.5615782 , 0.555826  , 0.5569379 , 0.5609093 , 0.5575067 ,\n       0.56031936, 0.56087387, 0.56169456, 0.56030804, 0.56131935,\n       0.5569797 , 0.56057644, 0.5584577 , 0.55763257, 0.5597914 ,\n       0.56073743, 0.55726343, 0.55546266, 0.56171775, 0.5580143 ,\n       0.55945283, 0.55507535, 0.55844516, 0.55992687, 0.56077087,\n       0.5596066 , 0.5604195 , 0.5538899 , 0.5599501 , 0.5542514 ,\n       0.56059223, 0.55971956, 0.5550381 , 0.5596401 , 0.5602364 ,\n       0.5603894 , 0.5552178 , 0.5549753 , 0.55749536, 0.55569243,\n       0.55836415, 0.5602595 , 0.5590236 , 0.55747795, 0.5543471 ,\n       0.5565562 , 0.5572491 , 0.5544777 , 0.55621266, 0.5570176 ,\n       0.5614866 , 0.55542815, 0.56174344, 0.5563874 , 0.55577123,\n       0.5558008 , 0.56124055, 0.55820954, 0.55925184, 0.56088513,\n       0.56157595, 0.5562509 , 0.5607451 , 0.5598591 , 0.5613715 ,\n       0.55404824, 0.5604606 , 0.5585304 , 0.5582508 , 0.5607255 ,\n       0.5554268 , 0.56003606, 0.55992395, 0.5562616 , 0.5551801 ,\n       0.5584558 , 0.5537274 , 0.5611685 , 0.5595076 , 0.5601586 ,\n       0.55779594, 0.5572904 , 0.5563931 , 0.558986  , 0.55629784,\n       0.5561673 , 0.5562843 , 0.5613424 , 0.5590853 , 0.5572251 ,\n       0.5607664 , 0.55981153, 0.56134236, 0.55819684, 0.55836844,\n       0.5563519 , 0.5552371 , 0.55497134, 0.5612933 , 0.5614613 ,\n       0.5609868 , 0.555128  , 0.5561232 , 0.5596409 , 0.5562992 ,\n       0.55416095, 0.55643034, 0.55507696, 0.5583704 , 0.5583245 ,\n       0.55585915, 0.5609771 , 0.56097686, 0.553602  , 0.5555826 ,\n       0.55809325, 0.5610327 , 0.5559057 , 0.5585305 , 0.5565848 ,\n       0.5594022 , 0.5582947 , 0.55360585, 0.55404   , 0.5543186 ,\n       0.55635136, 0.5600159 , 0.56137925, 0.5584018 , 0.5616382 ,\n       0.553845  , 0.5580575 , 0.5594667 , 0.56091243, 0.5608253 ,\n       0.5549124 , 0.56029487, 0.5569144 , 0.55406606, 0.5588259 ,\n       0.5582211 , 0.5540513 , 0.5584355 , 0.5577773 , 0.5545047 ,\n       0.55441695, 0.56177247, 0.5604745 , 0.55523574, 0.5584513 ,\n       0.55643636, 0.5546193 , 0.5549611 , 0.5617263 , 0.56175685,\n       0.5558683 , 0.5534777 , 0.55808914, 0.55438364, 0.5578094 ,\n       0.56042606, 0.5563032 , 0.5593155 , 0.55803835, 0.5570289 ,\n       0.55599934, 0.561309  , 0.55775124, 0.55562407, 0.55614394,\n       0.55981   , 0.56031734, 0.55840075, 0.56178266, 0.55723035,\n       0.55656755, 0.5535143 , 0.5544135 , 0.5539106 , 0.5596324 ,\n       0.56112397, 0.55391705, 0.5550539 , 0.55549014, 0.5616497 ,\n       0.55616665, 0.5605556 , 0.5563031 , 0.5543344 , 0.5562254 ,\n       0.553464  , 0.5593799 , 0.55560654, 0.5571543 , 0.5601921 ,\n       0.55501825, 0.55687076, 0.5608427 , 0.556509  , 0.5553681 ,\n       0.5537043 , 0.5578782 , 0.554674  , 0.5555459 , 0.5576278 ,\n       0.55686474, 0.5587283 , 0.5536277 , 0.5598651 , 0.55376834,\n       0.55781054, 0.55992407, 0.55864346, 0.55453396, 0.5598459 ,\n       0.5549397 , 0.5545835 , 0.5610575 , 0.55830264, 0.55858105,\n       0.5584909 , 0.5568275 , 0.559882  , 0.55429304, 0.55834293,\n       0.55760676, 0.55971694, 0.5574685 , 0.55728805, 0.5575022 ,\n       0.56021595, 0.5596639 , 0.5609887 , 0.55562514, 0.5579941 ,\n       0.5579133 , 0.5597858 , 0.5615821 , 0.5600443 , 0.5595    ,\n       0.55569094, 0.55380875, 0.5607463 , 0.557351  , 0.55907595,\n       0.55630165, 0.5577702 , 0.55960816, 0.55487585, 0.55490017,\n       0.5558911 , 0.5597161 , 0.5545639 , 0.5545427 , 0.56039447,\n       0.55720294, 0.5608828 , 0.5615523 , 0.55455405, 0.56002903,\n       0.5606893 , 0.5578061 , 0.5594775 , 0.5555008 , 0.5613277 ,\n       0.5545511 , 0.55481935, 0.56055427, 0.5577304 , 0.55986667,\n       0.55911016, 0.5550596 , 0.5603782 , 0.56142014, 0.56008375,\n       0.56074035, 0.55426955, 0.5547037 , 0.56024486, 0.5550613 ,\n       0.55992806, 0.5561027 , 0.5540893 , 0.5613902 , 0.55760354,\n       0.56054604, 0.55873495, 0.5574936 , 0.55887586, 0.55953544,\n       0.56070936, 0.5550278 , 0.55818814, 0.5578816 , 0.56011486,\n       0.56055903, 0.55553097, 0.5559547 , 0.5537426 , 0.5564969 ,\n       0.56171584, 0.5535185 , 0.56136274, 0.5566674 , 0.5583297 ,\n       0.55747813, 0.55766064, 0.55443907, 0.5539951 , 0.55940866,\n       0.5610093 , 0.55735993, 0.5578676 , 0.5589271 , 0.555617  ,\n       0.5539429 , 0.5602556 , 0.55942917, 0.5584765 , 0.5574097 ,\n       0.55776095, 0.5538702 , 0.55692196, 0.5584782 , 0.55437773,\n       0.55963576, 0.56068105, 0.55754036, 0.558974  , 0.5594665 ,\n       0.5601565 , 0.55639005, 0.556366  , 0.559234  , 0.5588303 ,\n       0.56063974, 0.5545916 , 0.5586611 , 0.5561599 , 0.5553192 ,\n       0.5568946 , 0.5540613 , 0.5545831 , 0.56170565, 0.56000215,\n       0.55450475, 0.5563603 , 0.5565077 , 0.55945224, 0.55678827,\n       0.55418587, 0.55629164, 0.5597781 , 0.55664045, 0.55722713,\n       0.5586307 , 0.5566193 , 0.5611705 , 0.5603137 , 0.55982864,\n       0.561311  , 0.560898  , 0.5542062 , 0.5560778 , 0.56142724,\n       0.55702573, 0.55779284, 0.5555076 , 0.5594346 , 0.55861527,\n       0.5553869 , 0.56137276, 0.55765647, 0.5601618 , 0.5564504 ,\n       0.5563045 , 0.55592036, 0.55444044, 0.5611144 , 0.56096303,\n       0.5617417 , 0.55641466, 0.55417514, 0.5552759 , 0.5551566 ,\n       0.5535179 , 0.55433923, 0.5558076 , 0.55613804, 0.5602279 ,\n       0.5567365 , 0.5596326 , 0.5575853 , 0.5614451 , 0.56044805,\n       0.5617821 , 0.5590113 , 0.55751705, 0.5574897 , 0.55568427,\n       0.55589384, 0.5545499 , 0.55955166, 0.5551463 , 0.55748814,\n       0.55774194, 0.5541684 , 0.5536799 , 0.55759627, 0.55568314,\n       0.5555609 , 0.55983263, 0.55806553, 0.5569924 , 0.5611032 ,\n       0.5568792 , 0.5561318 , 0.5570809 , 0.55570143, 0.5557498 ,\n       0.56035966, 0.556483  , 0.5541583 , 0.5576443 , 0.5540967 ,\n       0.55424035, 0.5565467 , 0.5582558 , 0.55682456, 0.556476  ,\n       0.5552163 , 0.5608216 , 0.55518854, 0.55727905, 0.5613988 ,\n       0.5601787 , 0.5611755 , 0.5587114 , 0.55613273, 0.56016886,\n       0.55849886, 0.555949  , 0.557308  , 0.55841166, 0.55839324,\n       0.55643797, 0.5572791 , 0.56069803, 0.55674887, 0.5612797 ,\n       0.5588234 , 0.55383664, 0.56118757, 0.5556515 , 0.5584961 ,\n       0.5569181 , 0.56022954, 0.55905044, 0.5589839 , 0.5586449 ,\n       0.56051725, 0.55569124, 0.5575231 , 0.5597048 , 0.5606285 ,\n       0.55511993, 0.55777127, 0.5539861 , 0.55437297, 0.5606046 ,\n       0.5537664 , 0.55523425, 0.55976355, 0.5574653 , 0.55829114,\n       0.5543343 , 0.5601515 , 0.5566713 , 0.55959624, 0.5583124 ,\n       0.5601659 , 0.56036544, 0.5581769 , 0.55592287, 0.55900174,\n       0.55364645, 0.5548538 , 0.55773586, 0.5598764 , 0.55667967,\n       0.5573874 , 0.5549394 , 0.5541588 , 0.56170726, 0.55943006,\n       0.5571408 , 0.5574859 , 0.55621076, 0.5615379 , 0.55767024,\n       0.55745417, 0.5558431 , 0.55990493, 0.55349666, 0.5585787 ,\n       0.5546613 , 0.5603664 , 0.55974376, 0.55793065, 0.5582907 ,\n       0.553716  , 0.5540359 , 0.5593455 , 0.55790144, 0.55433285,\n       0.55770177, 0.5589712 , 0.5611834 , 0.5573176 , 0.55417705,\n       0.56180364, 0.55710846, 0.5593838 , 0.5556372 , 0.5600007 ,\n       0.55489284, 0.55841076, 0.5614841 , 0.55404156, 0.55370724,\n       0.5607057 , 0.55479544, 0.5578962 , 0.5609782 , 0.56058955,\n       0.5602938 , 0.55619025, 0.55863726], dtype=float32),)",
     "output_type": "error",
     "traceback": [
      "\u001b[1;31m---------------------------------------------------------------------------\u001b[0m",
      "\u001b[1;31mValueError\u001b[0m                                Traceback (most recent call last)",
      "\u001b[1;32m<ipython-input-25-4c82ace557e6>\u001b[0m in \u001b[0;36m<module>\u001b[1;34m\u001b[0m\n\u001b[1;32m----> 1\u001b[1;33m \u001b[0meval_model\u001b[0m\u001b[1;33m(\u001b[0m\u001b[0msynth_data\u001b[0m\u001b[1;33m,\u001b[0m \u001b[0mdataset_test\u001b[0m\u001b[1;33m)\u001b[0m\u001b[1;33m\u001b[0m\u001b[1;33m\u001b[0m\u001b[0m\n\u001b[0m",
      "\u001b[1;32m<ipython-input-23-c77c5ac4196e>\u001b[0m in \u001b[0;36meval_model\u001b[1;34m(dataset_train, dataset_test, label)\u001b[0m\n\u001b[0;32m      6\u001b[0m \u001b[1;33m\u001b[0m\u001b[0m\n\u001b[0;32m      7\u001b[0m     \u001b[0mclf\u001b[0m \u001b[1;33m=\u001b[0m \u001b[0mMLPClassifier\u001b[0m\u001b[1;33m(\u001b[0m\u001b[1;33m)\u001b[0m\u001b[1;33m\u001b[0m\u001b[1;33m\u001b[0m\u001b[0m\n\u001b[1;32m----> 8\u001b[1;33m     \u001b[0mclf\u001b[0m\u001b[1;33m.\u001b[0m\u001b[0mfit\u001b[0m\u001b[1;33m(\u001b[0m\u001b[0mX_train\u001b[0m\u001b[1;33m,\u001b[0m \u001b[0my_train\u001b[0m\u001b[1;33m)\u001b[0m\u001b[1;33m\u001b[0m\u001b[1;33m\u001b[0m\u001b[0m\n\u001b[0m\u001b[0;32m      9\u001b[0m     \u001b[0my_pred\u001b[0m \u001b[1;33m=\u001b[0m \u001b[0mclf\u001b[0m\u001b[1;33m.\u001b[0m\u001b[0mpredict\u001b[0m\u001b[1;33m(\u001b[0m\u001b[0mX_test\u001b[0m\u001b[1;33m)\u001b[0m\u001b[1;33m\u001b[0m\u001b[1;33m\u001b[0m\u001b[0m\n\u001b[0;32m     10\u001b[0m \u001b[1;33m\u001b[0m\u001b[0m\n",
      "\u001b[1;32mE:\\Users\\anaconda3\\envs\\py36\\lib\\site-packages\\sklearn\\neural_network\\_multilayer_perceptron.py\u001b[0m in \u001b[0;36mfit\u001b[1;34m(self, X, y)\u001b[0m\n\u001b[0;32m    671\u001b[0m         \u001b[0mself\u001b[0m \u001b[1;33m:\u001b[0m \u001b[0mreturns\u001b[0m \u001b[0ma\u001b[0m \u001b[0mtrained\u001b[0m \u001b[0mMLP\u001b[0m \u001b[0mmodel\u001b[0m\u001b[1;33m.\u001b[0m\u001b[1;33m\u001b[0m\u001b[1;33m\u001b[0m\u001b[0m\n\u001b[0;32m    672\u001b[0m         \"\"\"\n\u001b[1;32m--> 673\u001b[1;33m         \u001b[1;32mreturn\u001b[0m \u001b[0mself\u001b[0m\u001b[1;33m.\u001b[0m\u001b[0m_fit\u001b[0m\u001b[1;33m(\u001b[0m\u001b[0mX\u001b[0m\u001b[1;33m,\u001b[0m \u001b[0my\u001b[0m\u001b[1;33m,\u001b[0m \u001b[0mincremental\u001b[0m\u001b[1;33m=\u001b[0m\u001b[1;32mFalse\u001b[0m\u001b[1;33m)\u001b[0m\u001b[1;33m\u001b[0m\u001b[1;33m\u001b[0m\u001b[0m\n\u001b[0m\u001b[0;32m    674\u001b[0m \u001b[1;33m\u001b[0m\u001b[0m\n\u001b[0;32m    675\u001b[0m     \u001b[1;33m@\u001b[0m\u001b[0mproperty\u001b[0m\u001b[1;33m\u001b[0m\u001b[1;33m\u001b[0m\u001b[0m\n",
      "\u001b[1;32mE:\\Users\\anaconda3\\envs\\py36\\lib\\site-packages\\sklearn\\neural_network\\_multilayer_perceptron.py\u001b[0m in \u001b[0;36m_fit\u001b[1;34m(self, X, y, incremental)\u001b[0m\n\u001b[0;32m    362\u001b[0m                       (not self.warm_start and not incremental))\n\u001b[0;32m    363\u001b[0m \u001b[1;33m\u001b[0m\u001b[0m\n\u001b[1;32m--> 364\u001b[1;33m         \u001b[0mX\u001b[0m\u001b[1;33m,\u001b[0m \u001b[0my\u001b[0m \u001b[1;33m=\u001b[0m \u001b[0mself\u001b[0m\u001b[1;33m.\u001b[0m\u001b[0m_validate_input\u001b[0m\u001b[1;33m(\u001b[0m\u001b[0mX\u001b[0m\u001b[1;33m,\u001b[0m \u001b[0my\u001b[0m\u001b[1;33m,\u001b[0m \u001b[0mincremental\u001b[0m\u001b[1;33m,\u001b[0m \u001b[0mreset\u001b[0m\u001b[1;33m=\u001b[0m\u001b[0mfirst_pass\u001b[0m\u001b[1;33m)\u001b[0m\u001b[1;33m\u001b[0m\u001b[1;33m\u001b[0m\u001b[0m\n\u001b[0m\u001b[0;32m    365\u001b[0m \u001b[1;33m\u001b[0m\u001b[0m\n\u001b[0;32m    366\u001b[0m         \u001b[0mn_samples\u001b[0m\u001b[1;33m,\u001b[0m \u001b[0mn_features\u001b[0m \u001b[1;33m=\u001b[0m \u001b[0mX\u001b[0m\u001b[1;33m.\u001b[0m\u001b[0mshape\u001b[0m\u001b[1;33m\u001b[0m\u001b[1;33m\u001b[0m\u001b[0m\n",
      "\u001b[1;32mE:\\Users\\anaconda3\\envs\\py36\\lib\\site-packages\\sklearn\\neural_network\\_multilayer_perceptron.py\u001b[0m in \u001b[0;36m_validate_input\u001b[1;34m(self, X, y, incremental, reset)\u001b[0m\n\u001b[0;32m    999\u001b[0m         ):\n\u001b[0;32m   1000\u001b[0m             \u001b[0mself\u001b[0m\u001b[1;33m.\u001b[0m\u001b[0m_label_binarizer\u001b[0m \u001b[1;33m=\u001b[0m \u001b[0mLabelBinarizer\u001b[0m\u001b[1;33m(\u001b[0m\u001b[1;33m)\u001b[0m\u001b[1;33m\u001b[0m\u001b[1;33m\u001b[0m\u001b[0m\n\u001b[1;32m-> 1001\u001b[1;33m             \u001b[0mself\u001b[0m\u001b[1;33m.\u001b[0m\u001b[0m_label_binarizer\u001b[0m\u001b[1;33m.\u001b[0m\u001b[0mfit\u001b[0m\u001b[1;33m(\u001b[0m\u001b[0my\u001b[0m\u001b[1;33m)\u001b[0m\u001b[1;33m\u001b[0m\u001b[1;33m\u001b[0m\u001b[0m\n\u001b[0m\u001b[0;32m   1002\u001b[0m             \u001b[0mself\u001b[0m\u001b[1;33m.\u001b[0m\u001b[0mclasses_\u001b[0m \u001b[1;33m=\u001b[0m \u001b[0mself\u001b[0m\u001b[1;33m.\u001b[0m\u001b[0m_label_binarizer\u001b[0m\u001b[1;33m.\u001b[0m\u001b[0mclasses_\u001b[0m\u001b[1;33m\u001b[0m\u001b[1;33m\u001b[0m\u001b[0m\n\u001b[0;32m   1003\u001b[0m         \u001b[1;32melse\u001b[0m\u001b[1;33m:\u001b[0m\u001b[1;33m\u001b[0m\u001b[1;33m\u001b[0m\u001b[0m\n",
      "\u001b[1;32mE:\\Users\\anaconda3\\envs\\py36\\lib\\site-packages\\sklearn\\preprocessing\\_label.py\u001b[0m in \u001b[0;36mfit\u001b[1;34m(self, y)\u001b[0m\n\u001b[0;32m    295\u001b[0m \u001b[1;33m\u001b[0m\u001b[0m\n\u001b[0;32m    296\u001b[0m         \u001b[0mself\u001b[0m\u001b[1;33m.\u001b[0m\u001b[0msparse_input_\u001b[0m \u001b[1;33m=\u001b[0m \u001b[0msp\u001b[0m\u001b[1;33m.\u001b[0m\u001b[0missparse\u001b[0m\u001b[1;33m(\u001b[0m\u001b[0my\u001b[0m\u001b[1;33m)\u001b[0m\u001b[1;33m\u001b[0m\u001b[1;33m\u001b[0m\u001b[0m\n\u001b[1;32m--> 297\u001b[1;33m         \u001b[0mself\u001b[0m\u001b[1;33m.\u001b[0m\u001b[0mclasses_\u001b[0m \u001b[1;33m=\u001b[0m \u001b[0munique_labels\u001b[0m\u001b[1;33m(\u001b[0m\u001b[0my\u001b[0m\u001b[1;33m)\u001b[0m\u001b[1;33m\u001b[0m\u001b[1;33m\u001b[0m\u001b[0m\n\u001b[0m\u001b[0;32m    298\u001b[0m         \u001b[1;32mreturn\u001b[0m \u001b[0mself\u001b[0m\u001b[1;33m\u001b[0m\u001b[1;33m\u001b[0m\u001b[0m\n\u001b[0;32m    299\u001b[0m \u001b[1;33m\u001b[0m\u001b[0m\n",
      "\u001b[1;32mE:\\Users\\anaconda3\\envs\\py36\\lib\\site-packages\\sklearn\\utils\\multiclass.py\u001b[0m in \u001b[0;36munique_labels\u001b[1;34m(*ys)\u001b[0m\n\u001b[0;32m     96\u001b[0m     \u001b[0m_unique_labels\u001b[0m \u001b[1;33m=\u001b[0m \u001b[0m_FN_UNIQUE_LABELS\u001b[0m\u001b[1;33m.\u001b[0m\u001b[0mget\u001b[0m\u001b[1;33m(\u001b[0m\u001b[0mlabel_type\u001b[0m\u001b[1;33m,\u001b[0m \u001b[1;32mNone\u001b[0m\u001b[1;33m)\u001b[0m\u001b[1;33m\u001b[0m\u001b[1;33m\u001b[0m\u001b[0m\n\u001b[0;32m     97\u001b[0m     \u001b[1;32mif\u001b[0m \u001b[1;32mnot\u001b[0m \u001b[0m_unique_labels\u001b[0m\u001b[1;33m:\u001b[0m\u001b[1;33m\u001b[0m\u001b[1;33m\u001b[0m\u001b[0m\n\u001b[1;32m---> 98\u001b[1;33m         \u001b[1;32mraise\u001b[0m \u001b[0mValueError\u001b[0m\u001b[1;33m(\u001b[0m\u001b[1;34m\"Unknown label type: %s\"\u001b[0m \u001b[1;33m%\u001b[0m \u001b[0mrepr\u001b[0m\u001b[1;33m(\u001b[0m\u001b[0mys\u001b[0m\u001b[1;33m)\u001b[0m\u001b[1;33m)\u001b[0m\u001b[1;33m\u001b[0m\u001b[1;33m\u001b[0m\u001b[0m\n\u001b[0m\u001b[0;32m     99\u001b[0m \u001b[1;33m\u001b[0m\u001b[0m\n\u001b[0;32m    100\u001b[0m     \u001b[0mys_labels\u001b[0m \u001b[1;33m=\u001b[0m \u001b[0mset\u001b[0m\u001b[1;33m(\u001b[0m\u001b[0mchain\u001b[0m\u001b[1;33m.\u001b[0m\u001b[0mfrom_iterable\u001b[0m\u001b[1;33m(\u001b[0m\u001b[0m_unique_labels\u001b[0m\u001b[1;33m(\u001b[0m\u001b[0my\u001b[0m\u001b[1;33m)\u001b[0m \u001b[1;32mfor\u001b[0m \u001b[0my\u001b[0m \u001b[1;32min\u001b[0m \u001b[0mys\u001b[0m\u001b[1;33m)\u001b[0m\u001b[1;33m)\u001b[0m\u001b[1;33m\u001b[0m\u001b[1;33m\u001b[0m\u001b[0m\n",
      "\u001b[1;31mValueError\u001b[0m: Unknown label type: (array([0.5587489 , 0.55447656, 0.56024885, 0.5586329 , 0.5570742 ,\n       0.55658066, 0.5549261 , 0.5603756 , 0.5583203 , 0.5535344 ,\n       0.5603882 , 0.5590148 , 0.56173044, 0.56098497, 0.55389345,\n       0.55767965, 0.5552601 , 0.5574704 , 0.5598663 , 0.5605698 ,\n       0.55393195, 0.5591046 , 0.5578133 , 0.5605925 , 0.5575565 ,\n       0.556381  , 0.5615247 , 0.5602342 , 0.5614434 , 0.55738   ,\n       0.56022686, 0.559358  , 0.5561835 , 0.55451196, 0.55612266,\n       0.5598869 , 0.55633414, 0.5535579 , 0.5545059 , 0.5605935 ,\n       0.5569035 , 0.56036735, 0.5559883 , 0.5582772 , 0.55879605,\n       0.55744684, 0.55359554, 0.5595398 , 0.55976313, 0.56088847,\n       0.56143117, 0.55668986, 0.5565149 , 0.557443  , 0.55726796,\n       0.5586145 , 0.557391  , 0.5618115 , 0.5559235 , 0.55358505,\n       0.5543811 , 0.557767  , 0.56071025, 0.55512035, 0.56150615,\n       0.55619466, 0.55497605, 0.560914  , 0.5551434 , 0.55601275,\n       0.5556245 , 0.5613578 , 0.5600123 , 0.5599629 , 0.554797  ,\n       0.5602208 , 0.55861115, 0.55809957, 0.5553944 , 0.5600437 ,\n       0.5586317 , 0.5587404 , 0.56175214, 0.5539462 , 0.5602853 ,\n       0.5578663 , 0.5610664 , 0.5575189 , 0.55946195, 0.56012905,\n       0.55872643, 0.557847  , 0.55827194, 0.55774224, 0.5595005 ,\n       0.55852604, 0.55408114, 0.55939853, 0.55646485, 0.5575281 ,\n       0.56174666, 0.559673  , 0.55632514, 0.55839056, 0.5541888 ,\n       0.558201  , 0.5588558 , 0.5606283 , 0.5595987 , 0.5610588 ,\n       0.56165135, 0.558401  , 0.55356604, 0.5583445 , 0.56162006,\n       0.55991495, 0.5535952 , 0.5603479 , 0.55870926, 0.557675  ,\n       0.5542346 , 0.56035954, 0.55973405, 0.5543428 , 0.5548092 ,\n       0.55774415, 0.5561686 , 0.5602972 , 0.55866945, 0.56144965,\n       0.5579481 , 0.56057215, 0.560237  , 0.55882734, 0.5546523 ,\n       0.55876595, 0.5593341 , 0.5561964 , 0.5569698 , 0.5565289 ,\n       0.5615782 , 0.555826  , 0.5569379 , 0.5609093 , 0.5575067 ,\n       0.56031936, 0.56087387, 0.56169456, 0.56030804, 0.56131935,\n       0.5569797 , 0.56057644, 0.5584577 , 0.55763257, 0.5597914 ,\n       0.56073743, 0.55726343, 0.55546266, 0.56171775, 0.5580143 ,\n       0.55945283, 0.55507535, 0.55844516, 0.55992687, 0.56077087,\n       0.5596066 , 0.5604195 , 0.5538899 , 0.5599501 , 0.5542514 ,\n       0.56059223, 0.55971956, 0.5550381 , 0.5596401 , 0.5602364 ,\n       0.5603894 , 0.5552178 , 0.5549753 , 0.55749536, 0.55569243,\n       0.55836415, 0.5602595 , 0.5590236 , 0.55747795, 0.5543471 ,\n       0.5565562 , 0.5572491 , 0.5544777 , 0.55621266, 0.5570176 ,\n       0.5614866 , 0.55542815, 0.56174344, 0.5563874 , 0.55577123,\n       0.5558008 , 0.56124055, 0.55820954, 0.55925184, 0.56088513,\n       0.56157595, 0.5562509 , 0.5607451 , 0.5598591 , 0.5613715 ,\n       0.55404824, 0.5604606 , 0.5585304 , 0.5582508 , 0.5607255 ,\n       0.5554268 , 0.56003606, 0.55992395, 0.5562616 , 0.5551801 ,\n       0.5584558 , 0.5537274 , 0.5611685 , 0.5595076 , 0.5601586 ,\n       0.55779594, 0.5572904 , 0.5563931 , 0.558986  , 0.55629784,\n       0.5561673 , 0.5562843 , 0.5613424 , 0.5590853 , 0.5572251 ,\n       0.5607664 , 0.55981153, 0.56134236, 0.55819684, 0.55836844,\n       0.5563519 , 0.5552371 , 0.55497134, 0.5612933 , 0.5614613 ,\n       0.5609868 , 0.555128  , 0.5561232 , 0.5596409 , 0.5562992 ,\n       0.55416095, 0.55643034, 0.55507696, 0.5583704 , 0.5583245 ,\n       0.55585915, 0.5609771 , 0.56097686, 0.553602  , 0.5555826 ,\n       0.55809325, 0.5610327 , 0.5559057 , 0.5585305 , 0.5565848 ,\n       0.5594022 , 0.5582947 , 0.55360585, 0.55404   , 0.5543186 ,\n       0.55635136, 0.5600159 , 0.56137925, 0.5584018 , 0.5616382 ,\n       0.553845  , 0.5580575 , 0.5594667 , 0.56091243, 0.5608253 ,\n       0.5549124 , 0.56029487, 0.5569144 , 0.55406606, 0.5588259 ,\n       0.5582211 , 0.5540513 , 0.5584355 , 0.5577773 , 0.5545047 ,\n       0.55441695, 0.56177247, 0.5604745 , 0.55523574, 0.5584513 ,\n       0.55643636, 0.5546193 , 0.5549611 , 0.5617263 , 0.56175685,\n       0.5558683 , 0.5534777 , 0.55808914, 0.55438364, 0.5578094 ,\n       0.56042606, 0.5563032 , 0.5593155 , 0.55803835, 0.5570289 ,\n       0.55599934, 0.561309  , 0.55775124, 0.55562407, 0.55614394,\n       0.55981   , 0.56031734, 0.55840075, 0.56178266, 0.55723035,\n       0.55656755, 0.5535143 , 0.5544135 , 0.5539106 , 0.5596324 ,\n       0.56112397, 0.55391705, 0.5550539 , 0.55549014, 0.5616497 ,\n       0.55616665, 0.5605556 , 0.5563031 , 0.5543344 , 0.5562254 ,\n       0.553464  , 0.5593799 , 0.55560654, 0.5571543 , 0.5601921 ,\n       0.55501825, 0.55687076, 0.5608427 , 0.556509  , 0.5553681 ,\n       0.5537043 , 0.5578782 , 0.554674  , 0.5555459 , 0.5576278 ,\n       0.55686474, 0.5587283 , 0.5536277 , 0.5598651 , 0.55376834,\n       0.55781054, 0.55992407, 0.55864346, 0.55453396, 0.5598459 ,\n       0.5549397 , 0.5545835 , 0.5610575 , 0.55830264, 0.55858105,\n       0.5584909 , 0.5568275 , 0.559882  , 0.55429304, 0.55834293,\n       0.55760676, 0.55971694, 0.5574685 , 0.55728805, 0.5575022 ,\n       0.56021595, 0.5596639 , 0.5609887 , 0.55562514, 0.5579941 ,\n       0.5579133 , 0.5597858 , 0.5615821 , 0.5600443 , 0.5595    ,\n       0.55569094, 0.55380875, 0.5607463 , 0.557351  , 0.55907595,\n       0.55630165, 0.5577702 , 0.55960816, 0.55487585, 0.55490017,\n       0.5558911 , 0.5597161 , 0.5545639 , 0.5545427 , 0.56039447,\n       0.55720294, 0.5608828 , 0.5615523 , 0.55455405, 0.56002903,\n       0.5606893 , 0.5578061 , 0.5594775 , 0.5555008 , 0.5613277 ,\n       0.5545511 , 0.55481935, 0.56055427, 0.5577304 , 0.55986667,\n       0.55911016, 0.5550596 , 0.5603782 , 0.56142014, 0.56008375,\n       0.56074035, 0.55426955, 0.5547037 , 0.56024486, 0.5550613 ,\n       0.55992806, 0.5561027 , 0.5540893 , 0.5613902 , 0.55760354,\n       0.56054604, 0.55873495, 0.5574936 , 0.55887586, 0.55953544,\n       0.56070936, 0.5550278 , 0.55818814, 0.5578816 , 0.56011486,\n       0.56055903, 0.55553097, 0.5559547 , 0.5537426 , 0.5564969 ,\n       0.56171584, 0.5535185 , 0.56136274, 0.5566674 , 0.5583297 ,\n       0.55747813, 0.55766064, 0.55443907, 0.5539951 , 0.55940866,\n       0.5610093 , 0.55735993, 0.5578676 , 0.5589271 , 0.555617  ,\n       0.5539429 , 0.5602556 , 0.55942917, 0.5584765 , 0.5574097 ,\n       0.55776095, 0.5538702 , 0.55692196, 0.5584782 , 0.55437773,\n       0.55963576, 0.56068105, 0.55754036, 0.558974  , 0.5594665 ,\n       0.5601565 , 0.55639005, 0.556366  , 0.559234  , 0.5588303 ,\n       0.56063974, 0.5545916 , 0.5586611 , 0.5561599 , 0.5553192 ,\n       0.5568946 , 0.5540613 , 0.5545831 , 0.56170565, 0.56000215,\n       0.55450475, 0.5563603 , 0.5565077 , 0.55945224, 0.55678827,\n       0.55418587, 0.55629164, 0.5597781 , 0.55664045, 0.55722713,\n       0.5586307 , 0.5566193 , 0.5611705 , 0.5603137 , 0.55982864,\n       0.561311  , 0.560898  , 0.5542062 , 0.5560778 , 0.56142724,\n       0.55702573, 0.55779284, 0.5555076 , 0.5594346 , 0.55861527,\n       0.5553869 , 0.56137276, 0.55765647, 0.5601618 , 0.5564504 ,\n       0.5563045 , 0.55592036, 0.55444044, 0.5611144 , 0.56096303,\n       0.5617417 , 0.55641466, 0.55417514, 0.5552759 , 0.5551566 ,\n       0.5535179 , 0.55433923, 0.5558076 , 0.55613804, 0.5602279 ,\n       0.5567365 , 0.5596326 , 0.5575853 , 0.5614451 , 0.56044805,\n       0.5617821 , 0.5590113 , 0.55751705, 0.5574897 , 0.55568427,\n       0.55589384, 0.5545499 , 0.55955166, 0.5551463 , 0.55748814,\n       0.55774194, 0.5541684 , 0.5536799 , 0.55759627, 0.55568314,\n       0.5555609 , 0.55983263, 0.55806553, 0.5569924 , 0.5611032 ,\n       0.5568792 , 0.5561318 , 0.5570809 , 0.55570143, 0.5557498 ,\n       0.56035966, 0.556483  , 0.5541583 , 0.5576443 , 0.5540967 ,\n       0.55424035, 0.5565467 , 0.5582558 , 0.55682456, 0.556476  ,\n       0.5552163 , 0.5608216 , 0.55518854, 0.55727905, 0.5613988 ,\n       0.5601787 , 0.5611755 , 0.5587114 , 0.55613273, 0.56016886,\n       0.55849886, 0.555949  , 0.557308  , 0.55841166, 0.55839324,\n       0.55643797, 0.5572791 , 0.56069803, 0.55674887, 0.5612797 ,\n       0.5588234 , 0.55383664, 0.56118757, 0.5556515 , 0.5584961 ,\n       0.5569181 , 0.56022954, 0.55905044, 0.5589839 , 0.5586449 ,\n       0.56051725, 0.55569124, 0.5575231 , 0.5597048 , 0.5606285 ,\n       0.55511993, 0.55777127, 0.5539861 , 0.55437297, 0.5606046 ,\n       0.5537664 , 0.55523425, 0.55976355, 0.5574653 , 0.55829114,\n       0.5543343 , 0.5601515 , 0.5566713 , 0.55959624, 0.5583124 ,\n       0.5601659 , 0.56036544, 0.5581769 , 0.55592287, 0.55900174,\n       0.55364645, 0.5548538 , 0.55773586, 0.5598764 , 0.55667967,\n       0.5573874 , 0.5549394 , 0.5541588 , 0.56170726, 0.55943006,\n       0.5571408 , 0.5574859 , 0.55621076, 0.5615379 , 0.55767024,\n       0.55745417, 0.5558431 , 0.55990493, 0.55349666, 0.5585787 ,\n       0.5546613 , 0.5603664 , 0.55974376, 0.55793065, 0.5582907 ,\n       0.553716  , 0.5540359 , 0.5593455 , 0.55790144, 0.55433285,\n       0.55770177, 0.5589712 , 0.5611834 , 0.5573176 , 0.55417705,\n       0.56180364, 0.55710846, 0.5593838 , 0.5556372 , 0.5600007 ,\n       0.55489284, 0.55841076, 0.5614841 , 0.55404156, 0.55370724,\n       0.5607057 , 0.55479544, 0.5578962 , 0.5609782 , 0.56058955,\n       0.5602938 , 0.55619025, 0.55863726], dtype=float32),)"
     ]
    }
   ],
   "source": [
    "eval_model(synth_data, dataset_test)"
   ]
  },
  {
   "cell_type": "code",
   "execution_count": null,
   "metadata": {},
   "outputs": [],
   "source": []
  }
 ],
 "metadata": {
  "kernelspec": {
   "display_name": "Python 3",
   "language": "python",
   "name": "python3"
  },
  "language_info": {
   "codemirror_mode": {
    "name": "ipython",
    "version": 3
   },
   "file_extension": ".py",
   "mimetype": "text/x-python",
   "name": "python",
   "nbconvert_exporter": "python",
   "pygments_lexer": "ipython3",
   "version": "3.6.10"
  }
 },
 "nbformat": 4,
 "nbformat_minor": 4
}
